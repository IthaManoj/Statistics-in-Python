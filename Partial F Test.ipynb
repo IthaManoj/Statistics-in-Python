{
 "cells": [
  {
   "cell_type": "markdown",
   "metadata": {},
   "source": [
    "### Importing the libraries"
   ]
  },
  {
   "cell_type": "code",
   "execution_count": 1,
   "metadata": {},
   "outputs": [],
   "source": [
    "import numpy as np\n",
    "import pandas as pd\n",
    "import statsmodels.api as sm"
   ]
  },
  {
   "cell_type": "markdown",
   "metadata": {},
   "source": [
    "### Generating a random data with 5 columns of 100 values each and a seperate y column"
   ]
  },
  {
   "cell_type": "code",
   "execution_count": 6,
   "metadata": {},
   "outputs": [
    {
     "data": {
      "text/html": [
       "<div>\n",
       "<style scoped>\n",
       "    .dataframe tbody tr th:only-of-type {\n",
       "        vertical-align: middle;\n",
       "    }\n",
       "\n",
       "    .dataframe tbody tr th {\n",
       "        vertical-align: top;\n",
       "    }\n",
       "\n",
       "    .dataframe thead th {\n",
       "        text-align: right;\n",
       "    }\n",
       "</style>\n",
       "<table border=\"1\" class=\"dataframe\">\n",
       "  <thead>\n",
       "    <tr style=\"text-align: right;\">\n",
       "      <th></th>\n",
       "      <th>x1</th>\n",
       "      <th>x2</th>\n",
       "      <th>x3</th>\n",
       "      <th>x4</th>\n",
       "      <th>x5</th>\n",
       "      <th>y</th>\n",
       "    </tr>\n",
       "  </thead>\n",
       "  <tbody>\n",
       "    <tr>\n",
       "      <th>0</th>\n",
       "      <td>8.034280</td>\n",
       "      <td>5.275223</td>\n",
       "      <td>1.191115</td>\n",
       "      <td>6.396814</td>\n",
       "      <td>0.909253</td>\n",
       "      <td>3.322257</td>\n",
       "    </tr>\n",
       "    <tr>\n",
       "      <th>1</th>\n",
       "      <td>4.273809</td>\n",
       "      <td>5.543858</td>\n",
       "      <td>6.281265</td>\n",
       "      <td>6.973929</td>\n",
       "      <td>7.899497</td>\n",
       "      <td>1.318904</td>\n",
       "    </tr>\n",
       "    <tr>\n",
       "      <th>2</th>\n",
       "      <td>3.427705</td>\n",
       "      <td>2.015596</td>\n",
       "      <td>7.073242</td>\n",
       "      <td>0.333993</td>\n",
       "      <td>9.092500</td>\n",
       "      <td>4.051607</td>\n",
       "    </tr>\n",
       "    <tr>\n",
       "      <th>3</th>\n",
       "      <td>7.604355</td>\n",
       "      <td>4.737584</td>\n",
       "      <td>2.867189</td>\n",
       "      <td>7.512925</td>\n",
       "      <td>0.970899</td>\n",
       "      <td>4.123578</td>\n",
       "    </tr>\n",
       "    <tr>\n",
       "      <th>4</th>\n",
       "      <td>2.816390</td>\n",
       "      <td>3.902778</td>\n",
       "      <td>8.711092</td>\n",
       "      <td>0.812451</td>\n",
       "      <td>5.579312</td>\n",
       "      <td>5.475343</td>\n",
       "    </tr>\n",
       "    <tr>\n",
       "      <th>...</th>\n",
       "      <td>...</td>\n",
       "      <td>...</td>\n",
       "      <td>...</td>\n",
       "      <td>...</td>\n",
       "      <td>...</td>\n",
       "      <td>...</td>\n",
       "    </tr>\n",
       "    <tr>\n",
       "      <th>95</th>\n",
       "      <td>2.100351</td>\n",
       "      <td>9.688033</td>\n",
       "      <td>9.462332</td>\n",
       "      <td>0.654448</td>\n",
       "      <td>8.618300</td>\n",
       "      <td>4.713433</td>\n",
       "    </tr>\n",
       "    <tr>\n",
       "      <th>96</th>\n",
       "      <td>5.264365</td>\n",
       "      <td>1.370052</td>\n",
       "      <td>1.402034</td>\n",
       "      <td>9.898785</td>\n",
       "      <td>9.880575</td>\n",
       "      <td>9.983077</td>\n",
       "    </tr>\n",
       "    <tr>\n",
       "      <th>97</th>\n",
       "      <td>6.395436</td>\n",
       "      <td>2.352666</td>\n",
       "      <td>2.745412</td>\n",
       "      <td>6.391808</td>\n",
       "      <td>6.044036</td>\n",
       "      <td>2.168950</td>\n",
       "    </tr>\n",
       "    <tr>\n",
       "      <th>98</th>\n",
       "      <td>9.882815</td>\n",
       "      <td>5.199813</td>\n",
       "      <td>0.201809</td>\n",
       "      <td>7.495199</td>\n",
       "      <td>5.374360</td>\n",
       "      <td>2.124887</td>\n",
       "    </tr>\n",
       "    <tr>\n",
       "      <th>99</th>\n",
       "      <td>1.150075</td>\n",
       "      <td>6.100834</td>\n",
       "      <td>4.902535</td>\n",
       "      <td>3.916281</td>\n",
       "      <td>8.726194</td>\n",
       "      <td>3.366211</td>\n",
       "    </tr>\n",
       "  </tbody>\n",
       "</table>\n",
       "<p>100 rows × 6 columns</p>\n",
       "</div>"
      ],
      "text/plain": [
       "          x1        x2        x3        x4        x5         y\n",
       "0   8.034280  5.275223  1.191115  6.396814  0.909253  3.322257\n",
       "1   4.273809  5.543858  6.281265  6.973929  7.899497  1.318904\n",
       "2   3.427705  2.015596  7.073242  0.333993  9.092500  4.051607\n",
       "3   7.604355  4.737584  2.867189  7.512925  0.970899  4.123578\n",
       "4   2.816390  3.902778  8.711092  0.812451  5.579312  5.475343\n",
       "..       ...       ...       ...       ...       ...       ...\n",
       "95  2.100351  9.688033  9.462332  0.654448  8.618300  4.713433\n",
       "96  5.264365  1.370052  1.402034  9.898785  9.880575  9.983077\n",
       "97  6.395436  2.352666  2.745412  6.391808  6.044036  2.168950\n",
       "98  9.882815  5.199813  0.201809  7.495199  5.374360  2.124887\n",
       "99  1.150075  6.100834  4.902535  3.916281  8.726194  3.366211\n",
       "\n",
       "[100 rows x 6 columns]"
      ]
     },
     "execution_count": 6,
     "metadata": {},
     "output_type": "execute_result"
    }
   ],
   "source": [
    "np.random.seed(999)\n",
    "\n",
    "data = pd.DataFrame(np.random.uniform(0,10,(100,6)),\n",
    "                   columns=['x1','x2','x3','x4','x5','y'])\n",
    "data"
   ]
  },
  {
   "cell_type": "markdown",
   "metadata": {},
   "source": [
    "### Saving the dataframe as a csv file"
   ]
  },
  {
   "cell_type": "code",
   "execution_count": 24,
   "metadata": {},
   "outputs": [],
   "source": [
    "data.to_csv(r'C:\\Users\\Manoj\\E21007.csv', index=False)"
   ]
  },
  {
   "cell_type": "markdown",
   "metadata": {},
   "source": [
    "### Fitting the regression model with all features"
   ]
  },
  {
   "cell_type": "code",
   "execution_count": 13,
   "metadata": {},
   "outputs": [
    {
     "data": {
      "text/html": [
       "<table class=\"simpletable\">\n",
       "<caption>OLS Regression Results</caption>\n",
       "<tr>\n",
       "  <th>Dep. Variable:</th>            <td>y</td>        <th>  R-squared:         </th> <td>   0.051</td>\n",
       "</tr>\n",
       "<tr>\n",
       "  <th>Model:</th>                   <td>OLS</td>       <th>  Adj. R-squared:    </th> <td>   0.001</td>\n",
       "</tr>\n",
       "<tr>\n",
       "  <th>Method:</th>             <td>Least Squares</td>  <th>  F-statistic:       </th> <td>   1.016</td>\n",
       "</tr>\n",
       "<tr>\n",
       "  <th>Date:</th>             <td>Fri, 02 Jul 2021</td> <th>  Prob (F-statistic):</th>  <td> 0.413</td> \n",
       "</tr>\n",
       "<tr>\n",
       "  <th>Time:</th>                 <td>12:57:19</td>     <th>  Log-Likelihood:    </th> <td> -244.69</td>\n",
       "</tr>\n",
       "<tr>\n",
       "  <th>No. Observations:</th>      <td>   100</td>      <th>  AIC:               </th> <td>   501.4</td>\n",
       "</tr>\n",
       "<tr>\n",
       "  <th>Df Residuals:</th>          <td>    94</td>      <th>  BIC:               </th> <td>   517.0</td>\n",
       "</tr>\n",
       "<tr>\n",
       "  <th>Df Model:</th>              <td>     5</td>      <th>                     </th>     <td> </td>   \n",
       "</tr>\n",
       "<tr>\n",
       "  <th>Covariance Type:</th>      <td>nonrobust</td>    <th>                     </th>     <td> </td>   \n",
       "</tr>\n",
       "</table>\n",
       "<table class=\"simpletable\">\n",
       "<tr>\n",
       "    <td></td>       <th>coef</th>     <th>std err</th>      <th>t</th>      <th>P>|t|</th>  <th>[0.025</th>    <th>0.975]</th>  \n",
       "</tr>\n",
       "<tr>\n",
       "  <th>const</th> <td>    5.3666</td> <td>    1.246</td> <td>    4.306</td> <td> 0.000</td> <td>    2.892</td> <td>    7.841</td>\n",
       "</tr>\n",
       "<tr>\n",
       "  <th>x1</th>    <td>   -0.0317</td> <td>    0.100</td> <td>   -0.317</td> <td> 0.752</td> <td>   -0.231</td> <td>    0.167</td>\n",
       "</tr>\n",
       "<tr>\n",
       "  <th>x2</th>    <td>   -0.1240</td> <td>    0.100</td> <td>   -1.239</td> <td> 0.218</td> <td>   -0.323</td> <td>    0.075</td>\n",
       "</tr>\n",
       "<tr>\n",
       "  <th>x3</th>    <td>   -0.0682</td> <td>    0.107</td> <td>   -0.637</td> <td> 0.525</td> <td>   -0.281</td> <td>    0.144</td>\n",
       "</tr>\n",
       "<tr>\n",
       "  <th>x4</th>    <td>   -0.0747</td> <td>    0.100</td> <td>   -0.744</td> <td> 0.459</td> <td>   -0.274</td> <td>    0.125</td>\n",
       "</tr>\n",
       "<tr>\n",
       "  <th>x5</th>    <td>    0.1401</td> <td>    0.098</td> <td>    1.429</td> <td> 0.156</td> <td>   -0.055</td> <td>    0.335</td>\n",
       "</tr>\n",
       "</table>\n",
       "<table class=\"simpletable\">\n",
       "<tr>\n",
       "  <th>Omnibus:</th>       <td>17.654</td> <th>  Durbin-Watson:     </th> <td>   1.799</td>\n",
       "</tr>\n",
       "<tr>\n",
       "  <th>Prob(Omnibus):</th> <td> 0.000</td> <th>  Jarque-Bera (JB):  </th> <td>   5.212</td>\n",
       "</tr>\n",
       "<tr>\n",
       "  <th>Skew:</th>          <td> 0.199</td> <th>  Prob(JB):          </th> <td>  0.0738</td>\n",
       "</tr>\n",
       "<tr>\n",
       "  <th>Kurtosis:</th>      <td> 1.955</td> <th>  Cond. No.          </th> <td>    49.7</td>\n",
       "</tr>\n",
       "</table><br/><br/>Warnings:<br/>[1] Standard Errors assume that the covariance matrix of the errors is correctly specified."
      ],
      "text/plain": [
       "<class 'statsmodels.iolib.summary.Summary'>\n",
       "\"\"\"\n",
       "                            OLS Regression Results                            \n",
       "==============================================================================\n",
       "Dep. Variable:                      y   R-squared:                       0.051\n",
       "Model:                            OLS   Adj. R-squared:                  0.001\n",
       "Method:                 Least Squares   F-statistic:                     1.016\n",
       "Date:                Fri, 02 Jul 2021   Prob (F-statistic):              0.413\n",
       "Time:                        12:57:19   Log-Likelihood:                -244.69\n",
       "No. Observations:                 100   AIC:                             501.4\n",
       "Df Residuals:                      94   BIC:                             517.0\n",
       "Df Model:                           5                                         \n",
       "Covariance Type:            nonrobust                                         \n",
       "==============================================================================\n",
       "                 coef    std err          t      P>|t|      [0.025      0.975]\n",
       "------------------------------------------------------------------------------\n",
       "const          5.3666      1.246      4.306      0.000       2.892       7.841\n",
       "x1            -0.0317      0.100     -0.317      0.752      -0.231       0.167\n",
       "x2            -0.1240      0.100     -1.239      0.218      -0.323       0.075\n",
       "x3            -0.0682      0.107     -0.637      0.525      -0.281       0.144\n",
       "x4            -0.0747      0.100     -0.744      0.459      -0.274       0.125\n",
       "x5             0.1401      0.098      1.429      0.156      -0.055       0.335\n",
       "==============================================================================\n",
       "Omnibus:                       17.654   Durbin-Watson:                   1.799\n",
       "Prob(Omnibus):                  0.000   Jarque-Bera (JB):                5.212\n",
       "Skew:                           0.199   Prob(JB):                       0.0738\n",
       "Kurtosis:                       1.955   Cond. No.                         49.7\n",
       "==============================================================================\n",
       "\n",
       "Warnings:\n",
       "[1] Standard Errors assume that the covariance matrix of the errors is correctly specified.\n",
       "\"\"\""
      ]
     },
     "execution_count": 13,
     "metadata": {},
     "output_type": "execute_result"
    }
   ],
   "source": [
    "results = sm.OLS(endog= data['y'],exog=sm.add_constant(data.iloc[:,:5])).fit()\n",
    "results.summary()"
   ]
  },
  {
   "cell_type": "markdown",
   "metadata": {},
   "source": [
    "### Fitting the model with any 2 features"
   ]
  },
  {
   "cell_type": "code",
   "execution_count": 14,
   "metadata": {},
   "outputs": [
    {
     "data": {
      "text/html": [
       "<table class=\"simpletable\">\n",
       "<caption>OLS Regression Results</caption>\n",
       "<tr>\n",
       "  <th>Dep. Variable:</th>            <td>y</td>        <th>  R-squared:         </th> <td>   0.015</td>\n",
       "</tr>\n",
       "<tr>\n",
       "  <th>Model:</th>                   <td>OLS</td>       <th>  Adj. R-squared:    </th> <td>  -0.005</td>\n",
       "</tr>\n",
       "<tr>\n",
       "  <th>Method:</th>             <td>Least Squares</td>  <th>  F-statistic:       </th> <td>  0.7346</td>\n",
       "</tr>\n",
       "<tr>\n",
       "  <th>Date:</th>             <td>Fri, 02 Jul 2021</td> <th>  Prob (F-statistic):</th>  <td> 0.482</td> \n",
       "</tr>\n",
       "<tr>\n",
       "  <th>Time:</th>                 <td>12:58:48</td>     <th>  Log-Likelihood:    </th> <td> -246.57</td>\n",
       "</tr>\n",
       "<tr>\n",
       "  <th>No. Observations:</th>      <td>   100</td>      <th>  AIC:               </th> <td>   499.1</td>\n",
       "</tr>\n",
       "<tr>\n",
       "  <th>Df Residuals:</th>          <td>    97</td>      <th>  BIC:               </th> <td>   507.0</td>\n",
       "</tr>\n",
       "<tr>\n",
       "  <th>Df Model:</th>              <td>     2</td>      <th>                     </th>     <td> </td>   \n",
       "</tr>\n",
       "<tr>\n",
       "  <th>Covariance Type:</th>      <td>nonrobust</td>    <th>                     </th>     <td> </td>   \n",
       "</tr>\n",
       "</table>\n",
       "<table class=\"simpletable\">\n",
       "<tr>\n",
       "    <td></td>       <th>coef</th>     <th>std err</th>      <th>t</th>      <th>P>|t|</th>  <th>[0.025</th>    <th>0.975]</th>  \n",
       "</tr>\n",
       "<tr>\n",
       "  <th>const</th> <td>    5.4349</td> <td>    0.737</td> <td>    7.370</td> <td> 0.000</td> <td>    3.971</td> <td>    6.899</td>\n",
       "</tr>\n",
       "<tr>\n",
       "  <th>x3</th>    <td>   -0.0899</td> <td>    0.107</td> <td>   -0.843</td> <td> 0.401</td> <td>   -0.302</td> <td>    0.122</td>\n",
       "</tr>\n",
       "<tr>\n",
       "  <th>x4</th>    <td>   -0.0898</td> <td>    0.099</td> <td>   -0.904</td> <td> 0.368</td> <td>   -0.287</td> <td>    0.107</td>\n",
       "</tr>\n",
       "</table>\n",
       "<table class=\"simpletable\">\n",
       "<tr>\n",
       "  <th>Omnibus:</th>       <td>17.225</td> <th>  Durbin-Watson:     </th> <td>   1.829</td>\n",
       "</tr>\n",
       "<tr>\n",
       "  <th>Prob(Omnibus):</th> <td> 0.000</td> <th>  Jarque-Bera (JB):  </th> <td>   5.156</td>\n",
       "</tr>\n",
       "<tr>\n",
       "  <th>Skew:</th>          <td> 0.199</td> <th>  Prob(JB):          </th> <td>  0.0759</td>\n",
       "</tr>\n",
       "<tr>\n",
       "  <th>Kurtosis:</th>      <td> 1.961</td> <th>  Cond. No.          </th> <td>    18.2</td>\n",
       "</tr>\n",
       "</table><br/><br/>Warnings:<br/>[1] Standard Errors assume that the covariance matrix of the errors is correctly specified."
      ],
      "text/plain": [
       "<class 'statsmodels.iolib.summary.Summary'>\n",
       "\"\"\"\n",
       "                            OLS Regression Results                            \n",
       "==============================================================================\n",
       "Dep. Variable:                      y   R-squared:                       0.015\n",
       "Model:                            OLS   Adj. R-squared:                 -0.005\n",
       "Method:                 Least Squares   F-statistic:                    0.7346\n",
       "Date:                Fri, 02 Jul 2021   Prob (F-statistic):              0.482\n",
       "Time:                        12:58:48   Log-Likelihood:                -246.57\n",
       "No. Observations:                 100   AIC:                             499.1\n",
       "Df Residuals:                      97   BIC:                             507.0\n",
       "Df Model:                           2                                         \n",
       "Covariance Type:            nonrobust                                         \n",
       "==============================================================================\n",
       "                 coef    std err          t      P>|t|      [0.025      0.975]\n",
       "------------------------------------------------------------------------------\n",
       "const          5.4349      0.737      7.370      0.000       3.971       6.899\n",
       "x3            -0.0899      0.107     -0.843      0.401      -0.302       0.122\n",
       "x4            -0.0898      0.099     -0.904      0.368      -0.287       0.107\n",
       "==============================================================================\n",
       "Omnibus:                       17.225   Durbin-Watson:                   1.829\n",
       "Prob(Omnibus):                  0.000   Jarque-Bera (JB):                5.156\n",
       "Skew:                           0.199   Prob(JB):                       0.0759\n",
       "Kurtosis:                       1.961   Cond. No.                         18.2\n",
       "==============================================================================\n",
       "\n",
       "Warnings:\n",
       "[1] Standard Errors assume that the covariance matrix of the errors is correctly specified.\n",
       "\"\"\""
      ]
     },
     "execution_count": 14,
     "metadata": {},
     "output_type": "execute_result"
    }
   ],
   "source": [
    "results = sm.OLS(endog= data['y'],exog=sm.add_constant(data.iloc[:,2:4])).fit()\n",
    "results.summary()"
   ]
  },
  {
   "cell_type": "markdown",
   "metadata": {},
   "source": [
    "### Calculating the Partial F - Statistic"
   ]
  },
  {
   "cell_type": "code",
   "execution_count": 18,
   "metadata": {},
   "outputs": [
    {
     "data": {
      "text/plain": [
       "0     4.753707\n",
       "1     4.244206\n",
       "2     4.768937\n",
       "3     4.502822\n",
       "4     4.578720\n",
       "        ...   \n",
       "95    4.525350\n",
       "96    4.420433\n",
       "97    4.614394\n",
       "98    4.744083\n",
       "99    4.642610\n",
       "Length: 100, dtype: float64"
      ]
     },
     "execution_count": 18,
     "metadata": {},
     "output_type": "execute_result"
    }
   ],
   "source": [
    "# Precidting the values of y for 2 features\n",
    "yhat = results.predict(sm.add_constant(data.iloc[:,2:4]))\n",
    "yhat"
   ]
  },
  {
   "cell_type": "code",
   "execution_count": 19,
   "metadata": {},
   "outputs": [
    {
     "name": "stdout",
     "output_type": "stream",
     "text": [
      "<F test: F=array([[0.73460927]]), p=0.48234222410339134, df_denom=97, df_num=2>\n"
     ]
    }
   ],
   "source": [
    "hypotheses = '(x3 = 0), (x4 = 0)'\n",
    "f_test = results.f_test(hypotheses)\n",
    "print(f_test)"
   ]
  },
  {
   "cell_type": "markdown",
   "metadata": {},
   "source": [
    "### Checking for stationarity and Granger Casuality Test"
   ]
  },
  {
   "cell_type": "code",
   "execution_count": 25,
   "metadata": {},
   "outputs": [],
   "source": [
    "from statsmodels.tsa.stattools import grangercausalitytests, adfuller"
   ]
  },
  {
   "cell_type": "code",
   "execution_count": 27,
   "metadata": {},
   "outputs": [],
   "source": [
    "## Checking for stationarity\n",
    "\n",
    "def check_stationarity(y):\n",
    "    result = adfuller(y)\n",
    "    print('ADF Statitic : %f' %result[0])\n",
    "    print('p - value : %f' %result[1])\n",
    "    print('Critical Values')\n",
    "    for key, value in result[4].items():\n",
    "        print('\\t%s : %3f' %(key, value))"
   ]
  },
  {
   "cell_type": "code",
   "execution_count": 30,
   "metadata": {},
   "outputs": [
    {
     "name": "stdout",
     "output_type": "stream",
     "text": [
      "ADF Statitic : -9.824680\n",
      "p - value : 0.000000\n",
      "Critical Values\n",
      "\t1% : -3.498198\n",
      "\t5% : -2.891208\n",
      "\t10% : -2.582596\n"
     ]
    }
   ],
   "source": [
    "check_stationarity(yhat)"
   ]
  },
  {
   "cell_type": "code",
   "execution_count": 35,
   "metadata": {},
   "outputs": [
    {
     "name": "stdout",
     "output_type": "stream",
     "text": [
      "\n",
      "Granger Causality\n",
      "number of lags (no zero) 1\n",
      "ssr based F test:         F=2.6436  , p=0.1072  , df_denom=96, df_num=1\n",
      "ssr based chi2 test:   chi2=2.7262  , p=0.0987  , df=1\n",
      "likelihood ratio test: chi2=2.6894  , p=0.1010  , df=1\n",
      "parameter F test:         F=2.6436  , p=0.1072  , df_denom=96, df_num=1\n",
      "\n",
      "Granger Causality\n",
      "number of lags (no zero) 2\n",
      "ssr based F test:         F=1.8901  , p=0.1568  , df_denom=93, df_num=2\n",
      "ssr based chi2 test:   chi2=3.9833  , p=0.1365  , df=2\n",
      "likelihood ratio test: chi2=3.9045  , p=0.1420  , df=2\n",
      "parameter F test:         F=1.8901  , p=0.1568  , df_denom=93, df_num=2\n",
      "\n",
      "Granger Causality\n",
      "number of lags (no zero) 3\n",
      "ssr based F test:         F=1.3345  , p=0.2682  , df_denom=90, df_num=3\n",
      "ssr based chi2 test:   chi2=4.3148  , p=0.2294  , df=3\n",
      "likelihood ratio test: chi2=4.2216  , p=0.2385  , df=3\n",
      "parameter F test:         F=1.3345  , p=0.2682  , df_denom=90, df_num=3\n"
     ]
    },
    {
     "data": {
      "text/plain": [
       "{1: ({'ssr_ftest': (2.643628887488964, 0.10724425579054463, 96.0, 1),\n",
       "   'ssr_chi2test': (2.7262422902229946, 0.09871129004194132, 1),\n",
       "   'lrtest': (2.689380136046964, 0.10101910537563244, 1),\n",
       "   'params_ftest': (2.643628887488961, 0.10724425579054463, 96.0, 1.0)},\n",
       "  [<statsmodels.regression.linear_model.RegressionResultsWrapper at 0x1c9d422cf08>,\n",
       "   <statsmodels.regression.linear_model.RegressionResultsWrapper at 0x1c9d4227888>,\n",
       "   array([[0., 1., 0.]])]),\n",
       " 2: ({'ssr_ftest': (1.8900518352565525, 0.15682101081150362, 93.0, 2),\n",
       "   'ssr_chi2test': (3.9833350506482184, 0.13646767230674187, 2),\n",
       "   'lrtest': (3.9045100620858193, 0.14195360061028872, 2),\n",
       "   'params_ftest': (1.8900518352565323, 0.15682101081150715, 93.0, 2.0)},\n",
       "  [<statsmodels.regression.linear_model.RegressionResultsWrapper at 0x1c9d4227308>,\n",
       "   <statsmodels.regression.linear_model.RegressionResultsWrapper at 0x1c9d402dc48>,\n",
       "   array([[0., 0., 1., 0., 0.],\n",
       "          [0., 0., 0., 1., 0.]])]),\n",
       " 3: ({'ssr_ftest': (1.334489592337872, 0.26817508397494516, 90.0, 3),\n",
       "   'ssr_chi2test': (4.3148496818924515, 0.22941185611658993, 3),\n",
       "   'lrtest': (4.221635274774428, 0.23850469093983284, 3),\n",
       "   'params_ftest': (1.3344895923378521, 0.26817508397495166, 90.0, 3.0)},\n",
       "  [<statsmodels.regression.linear_model.RegressionResultsWrapper at 0x1c9d42e79c8>,\n",
       "   <statsmodels.regression.linear_model.RegressionResultsWrapper at 0x1c9d42245c8>,\n",
       "   array([[0., 0., 0., 1., 0., 0., 0.],\n",
       "          [0., 0., 0., 0., 1., 0., 0.],\n",
       "          [0., 0., 0., 0., 0., 1., 0.]])])}"
      ]
     },
     "execution_count": 35,
     "metadata": {},
     "output_type": "execute_result"
    }
   ],
   "source": [
    "#Granger Casuality Test\n",
    "grangercausalitytests(data.iloc[:,2:4], maxlag = 3)"
   ]
  }
 ],
 "metadata": {
  "kernelspec": {
   "display_name": "Python 3",
   "language": "python",
   "name": "python3"
  },
  "language_info": {
   "codemirror_mode": {
    "name": "ipython",
    "version": 3
   },
   "file_extension": ".py",
   "mimetype": "text/x-python",
   "name": "python",
   "nbconvert_exporter": "python",
   "pygments_lexer": "ipython3",
   "version": "3.7.6"
  }
 },
 "nbformat": 4,
 "nbformat_minor": 4
}
